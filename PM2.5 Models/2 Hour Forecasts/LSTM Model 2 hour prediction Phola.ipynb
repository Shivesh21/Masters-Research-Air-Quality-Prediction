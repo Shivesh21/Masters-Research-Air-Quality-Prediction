{
 "cells": [
  {
   "cell_type": "code",
   "execution_count": null,
   "id": "72ba2674",
   "metadata": {},
   "outputs": [],
   "source": [
    "import pandas as pd\n",
    "import numpy as np\n",
    "from sklearn.preprocessing import StandardScaler\n",
    "from sklearn.model_selection import TimeSeriesSplit\n",
    "from sklearn.metrics import mean_squared_error, r2_score\n",
    "from tensorflow.keras.models import Sequential\n",
    "from tensorflow.keras.layers import Dense\n",
    "from tensorflow.keras.callbacks import EarlyStopping\n",
    "import pandas as pd\n",
    "from sklearn.model_selection import train_test_split\n",
    "from sklearn.ensemble import RandomForestRegressor\n",
    "from xgboost import XGBRegressor\n",
    "from sklearn.metrics import mean_squared_error, mean_absolute_error, r2_score\n",
    "import matplotlib.pyplot as plt\n",
    "import seaborn as sns\n",
    "\n",
    "pd.set_option('display.max_columns', None)"
   ]
  },
  {
   "cell_type": "markdown",
   "id": "49e6d2a3",
   "metadata": {},
   "source": [
    "## Data imports"
   ]
  },
  {
   "cell_type": "code",
   "execution_count": null,
   "id": "fefa30c5",
   "metadata": {},
   "outputs": [],
   "source": [
    "# read data for Phola\n",
    "data_for_model = pd.read_csv(r'C:\\Users\\Shivm\\Documents\\Masters\\Research Project\\Eskom air quality data\\Eskom Model\\PM10 Models\\Combined Station Data.csv')\n",
    "data_for_model.drop(columns=['Location_Marapong', 'Location_Medupi', 'Location_Chicken Farm'], inplace=True)\n",
    "data_for_model = data_for_model[data_for_model['Location_Phola']==True]\n",
    "data_for_model['NO1'] = data_for_model['NO1'].fillna(data_for_model['NOX'] - data_for_model['NO2'])\n",
    "data_for_model"
   ]
  },
  {
   "cell_type": "code",
   "execution_count": null,
   "id": "382fc98a",
   "metadata": {},
   "outputs": [],
   "source": [
    "#null checks\n",
    "data_for_model.isna().sum()"
   ]
  },
  {
   "cell_type": "code",
   "execution_count": null,
   "id": "95fa85c4",
   "metadata": {},
   "outputs": [],
   "source": [
    "data_for_model['Date Time'] = pd.to_datetime(data_for_model['Date Time'])\n",
    "data_for_model['Year'] = data_for_model['Date Time'].dt.year\n",
    "data_for_model.drop(columns=['Date', 'Date Time'], inplace=True)\n"
   ]
  },
  {
   "cell_type": "code",
   "execution_count": null,
   "id": "66f0ffe3",
   "metadata": {},
   "outputs": [],
   "source": [
    "data_for_model.columns"
   ]
  },
  {
   "cell_type": "markdown",
   "id": "38fc8346",
   "metadata": {},
   "source": [
    "## Create Target variable and rolling features"
   ]
  },
  {
   "cell_type": "code",
   "execution_count": null,
   "id": "1cae1a03",
   "metadata": {},
   "outputs": [],
   "source": [
    "data_for_model['PM2.5_lag1'] = data_for_model['PM2.5'].shift(1)\n",
    "data_for_model['PM2.5_lag2'] = data_for_model['PM2.5'].shift(2)\n",
    "data_for_model['PM2.5_lag3'] = data_for_model['PM2.5'].shift(3)\n",
    "data_for_model['PM2.5_t+2'] = data_for_model['PM2.5'].shift(-2)\n",
    "#data_for_model['PM2.5_t+6'] = data_for_model['PM2.5'].shift(-6)\n",
    "#data_for_model['PM2.5_t+12'] = data_for_model['PM2.5'].shift(-12)\n",
    "\n",
    "\n",
    "# Rolling means with different windows, shifted by 1 to prevent leakage\n",
    "# data_for_model['PM2.5_roll3_mean'] = data_for_model['PM2.5'].rolling(window=3).mean().shift(1)\n",
    "# data_for_model['PM2.5_roll6_mean'] = data_for_model['PM2.5'].rolling(window=6).mean().shift(1)\n",
    "# data_for_model['PM2.5_roll12_mean'] = data_for_model['PM2.5'].rolling(window=12).mean().shift(1)\n",
    "# data_for_model['PM2.5_roll24_mean'] = data_for_model['PM2.5'].rolling(window=24).mean().shift(1)\n",
    "# data_for_model['PM2.5_roll3_std'] = data_for_model['PM2.5'].rolling(3).std().shift(1)\n",
    "# data_for_model['PM2.5_roll6_std'] = data_for_model['PM2.5'].rolling(6).std().shift(1)\n",
    "# data_for_model['PM2.5_roll12_std'] = data_for_model['PM2.5'].rolling(12).std().shift(1)\n",
    "# data_for_model['PM2.5_roll24_std'] = data_for_model['PM2.5'].rolling(24).std().shift(1)\n",
    "data_for_model['PM2.5_diff1'] = data_for_model['PM2.5'] - data_for_model['PM2.5'].shift(1)\n",
    "data_for_model['Temp_diff1'] = data_for_model['Temp'] - data_for_model['Temp'].shift(1)\n",
    "\n",
    "\n",
    "data_for_model = data_for_model.dropna().reset_index(drop=True)\n",
    "# # # Split by year\n",
    "df_train = data_for_model[(data_for_model['Year'] >= 2005) & (data_for_model['Year'] <= 2015)]\n",
    "df_test = data_for_model[data_for_model['Year'] == 2016]\n",
    "df_val = data_for_model[data_for_model['Year'] == 2017]\n"
   ]
  },
  {
   "cell_type": "code",
   "execution_count": null,
   "id": "9e5af428",
   "metadata": {},
   "outputs": [],
   "source": [
    "data_for_model"
   ]
  },
  {
   "cell_type": "markdown",
   "id": "34b0d869",
   "metadata": {},
   "source": [
    "## Correlation Matrix to identify best features"
   ]
  },
  {
   "cell_type": "code",
   "execution_count": null,
   "id": "44bf8c0a",
   "metadata": {},
   "outputs": [],
   "source": [
    "import pandas as pd\n",
    "import seaborn as sns\n",
    "import matplotlib.pyplot as plt\n",
    "\n",
    "# Compute the correlation matrix\n",
    "corr_matrix = data_for_model.corr()\n",
    "\n",
    "# Set up the matplotlib figure\n",
    "plt.figure(figsize=(20, 16))\n",
    "\n",
    "# Generate a heatmap\n",
    "sns.heatmap(corr_matrix, cmap='coolwarm', annot=False, fmt=\".2f\", linewidths=0.5)\n",
    "\n",
    "# Add title\n",
    "plt.title('Correlation Heatmap', fontsize=18)\n",
    "plt.show()\n"
   ]
  },
  {
   "cell_type": "code",
   "execution_count": null,
   "id": "6d50e5cf",
   "metadata": {},
   "outputs": [],
   "source": [
    "# Compute correlations with the target\n",
    "target = 'PM2.5_t+2'\n",
    "correlations = data_for_model.corr()[target].drop(target)\n",
    "\n",
    "# Sort by absolute correlation (strongest relationships first)\n",
    "feature_ranking = correlations.abs().sort_values(ascending=False)\n",
    "\n",
    "# Display top 15 features most correlated with PM2.5_t+12\n",
    "print(\"Top correlated features with PM2.5_t+2:\\n\")\n",
    "print(feature_ranking.head(20))"
   ]
  },
  {
   "cell_type": "code",
   "execution_count": null,
   "id": "0b83fc8f",
   "metadata": {},
   "outputs": [],
   "source": [
    "feature_ranking"
   ]
  },
  {
   "cell_type": "code",
   "execution_count": null,
   "id": "161e5890",
   "metadata": {},
   "outputs": [],
   "source": [
    "data_for_model"
   ]
  },
  {
   "cell_type": "markdown",
   "id": "3adc46d8",
   "metadata": {},
   "source": [
    "## Feature Selection"
   ]
  },
  {
   "cell_type": "code",
   "execution_count": null,
   "id": "054bd99a",
   "metadata": {},
   "outputs": [],
   "source": [
    "features = feature_ranking.head(20).index.tolist()\n"
   ]
  },
  {
   "cell_type": "code",
   "execution_count": null,
   "id": "5827d526",
   "metadata": {},
   "outputs": [],
   "source": [
    "X = pd.concat([df_train[features], df_test[features]])#data_for_model[features]\n",
    "y = pd.concat([df_train['PM2.5_t+2'], df_test['PM2.5_t+2']])#data_for_model['PM2.5_t+2']\n",
    "\n",
    "scaler = StandardScaler()\n",
    "X_scaled = scaler.fit_transform(X)\n",
    "\n"
   ]
  },
  {
   "cell_type": "code",
   "execution_count": null,
   "id": "941f073a",
   "metadata": {},
   "outputs": [],
   "source": [
    "y"
   ]
  },
  {
   "cell_type": "markdown",
   "id": "d54939d9",
   "metadata": {},
   "source": [
    "## Data splitting for models"
   ]
  },
  {
   "cell_type": "code",
   "execution_count": null,
   "id": "caf1e36f",
   "metadata": {},
   "outputs": [],
   "source": [
    "# Let's use 80% of the data for training, 20% for testing\n",
    "split_idx = int(len(X_scaled) * 0.8)\n",
    "\n",
    "X_train, X_test = X_scaled[:split_idx], X_scaled[split_idx:]\n",
    "y_train, y_test = y[:split_idx], y[split_idx:]\n"
   ]
  },
  {
   "cell_type": "code",
   "execution_count": null,
   "id": "6262e220",
   "metadata": {},
   "outputs": [],
   "source": []
  },
  {
   "cell_type": "markdown",
   "id": "257b3aa0",
   "metadata": {},
   "source": [
    "## LSTM Model (Neural Network)"
   ]
  },
  {
   "cell_type": "code",
   "execution_count": null,
   "id": "e828fbcf",
   "metadata": {},
   "outputs": [],
   "source": [
    "model = Sequential([\n",
    "    Dense(64, activation='relu', input_shape=(X_train.shape[1],)),\n",
    "    Dense(32, activation='relu'),\n",
    "    Dense(1)\n",
    "])\n",
    "\n",
    "model.compile(optimizer='adam', loss='mse')\n",
    "\n",
    "early_stop = EarlyStopping(patience=10, restore_best_weights=True)\n",
    "\n",
    "model.fit(X_train, y_train, validation_data=(X_test, y_test),\n",
    "          epochs=50, batch_size=32, callbacks=[early_stop], verbose=1)\n"
   ]
  },
  {
   "cell_type": "code",
   "execution_count": null,
   "id": "117def44",
   "metadata": {},
   "outputs": [],
   "source": [
    "#Prediction accuracy\n",
    "y_pred = model.predict(X_test).flatten()\n",
    "\n",
    "r2 = r2_score(y_test, y_pred)\n",
    "rmse = mean_squared_error(y_test, y_pred, squared=False)\n",
    "\n",
    "print(f\"R²: {r2}\")\n",
    "print(f\"RMSE: {rmse}\")\n"
   ]
  },
  {
   "cell_type": "code",
   "execution_count": null,
   "id": "75aeeaf9",
   "metadata": {},
   "outputs": [],
   "source": [
    "X_val # Phola has no 2018 data"
   ]
  },
  {
   "cell_type": "code",
   "execution_count": null,
   "id": "788c5cd8",
   "metadata": {},
   "outputs": [],
   "source": [
    "#Validation data prediction\n",
    "X_val = df_val[features]\n",
    "y_val = df_val['PM2.5_t+2']\n",
    "\n",
    "X_val_scaled = scaler.fit_transform(X_val)\n",
    "\n",
    "\n",
    "y_pred_val = model.predict(X_val_scaled)\n",
    "\n",
    "r2 = r2_score(y_val, y_pred_val)\n",
    "rmse = mean_squared_error(y_val, y_pred_val, squared=False)\n",
    "\n",
    "print(f\"R²: {r2}\")\n",
    "print(f\"RMSE: {rmse}\")"
   ]
  },
  {
   "cell_type": "code",
   "execution_count": null,
   "id": "d906ca47",
   "metadata": {},
   "outputs": [],
   "source": [
    "last_known_data = data_for_model.iloc[-1][features].values.reshape(1, -1)\n",
    "last_known_data_scaled = scaler.transform(last_known_data)\n",
    "\n",
    "forecast_3hr = model.predict(last_known_data_scaled)[0][0]\n",
    "print(f\"Forecasted PM2.5 (3 hrs ahead): {forecast_3hr}\")\n"
   ]
  },
  {
   "cell_type": "code",
   "execution_count": null,
   "id": "7483931f",
   "metadata": {},
   "outputs": [],
   "source": [
    "\n",
    "plt.figure(figsize=(8, 6))\n",
    "sns.scatterplot(x=y_test, y=y_pred, alpha=0.5, edgecolor=None)\n",
    "plt.plot([y_test.min(), y_test.max()], [y_test.min(), y_test.max()], 'r--')  # ideal line\n",
    "plt.xlabel('Actual PM2.5')\n",
    "plt.ylabel('Predicted PM2.5')\n",
    "plt.title(f'Actual vs Predicted PM2.5 (R² = {r2_score(y_test, y_pred):.2f})')\n",
    "plt.grid(True)\n",
    "plt.tight_layout()\n",
    "plt.show()\n"
   ]
  },
  {
   "cell_type": "code",
   "execution_count": null,
   "id": "53b441e1",
   "metadata": {},
   "outputs": [],
   "source": [
    "y_val"
   ]
  },
  {
   "cell_type": "markdown",
   "id": "9ef330e3",
   "metadata": {},
   "source": [
    "# Testing out XGBoost Regressor and Random Forrest Regressor"
   ]
  },
  {
   "cell_type": "code",
   "execution_count": null,
   "id": "b7b5ac78",
   "metadata": {},
   "outputs": [],
   "source": [
    "X = pd.concat([df_train[features], df_test[features]])#data_for_model[features]\n",
    "y = pd.concat([df_train['PM2.5_t+2'], df_test['PM2.5_t+2']])#data_for_model['PM2.5_t+2']"
   ]
  },
  {
   "cell_type": "code",
   "execution_count": null,
   "id": "48586f4c",
   "metadata": {},
   "outputs": [],
   "source": [
    "#Data splitting\n",
    "X_train, X_test, y_train, y_test = train_test_split(X, y, test_size=0.2, random_state=42)\n"
   ]
  },
  {
   "cell_type": "code",
   "execution_count": null,
   "id": "fd036331",
   "metadata": {},
   "outputs": [],
   "source": [
    "#Random Forrest\n",
    "rf = RandomForestRegressor(n_estimators=100, random_state=42)\n",
    "rf.fit(X_train, y_train)\n",
    "rf_preds = rf.predict(X_test)\n"
   ]
  },
  {
   "cell_type": "code",
   "execution_count": null,
   "id": "9baf1c02",
   "metadata": {},
   "outputs": [],
   "source": [
    "#XGBoost\n",
    "xgb = XGBRegressor(n_estimators=100, learning_rate=0.1, random_state=42)\n",
    "xgb.fit(X_train, y_train)\n",
    "xgb_preds = xgb.predict(X_test)\n"
   ]
  },
  {
   "cell_type": "markdown",
   "id": "fd5e9a52",
   "metadata": {},
   "source": [
    "## Model Evaluation"
   ]
  },
  {
   "cell_type": "code",
   "execution_count": null,
   "id": "2816edbc",
   "metadata": {},
   "outputs": [],
   "source": [
    "def evaluate_model(name, y_true, y_pred):\n",
    "    print(f\"\\n{name} Performance:\")\n",
    "    print(\"MAE:\", mean_absolute_error(y_true, y_pred))\n",
    "    print(\"RMSE:\", mean_squared_error(y_true, y_pred, squared=False))\n",
    "    print(\"R2 Score:\", r2_score(y_true, y_pred))\n",
    "\n",
    "evaluate_model(\"Random Forest\", y_test, rf_preds)\n",
    "evaluate_model(\"XGBoost\", y_test, xgb_preds)\n"
   ]
  },
  {
   "cell_type": "code",
   "execution_count": null,
   "id": "afadc078",
   "metadata": {},
   "outputs": [],
   "source": [
    "import matplotlib.pyplot as plt\n",
    "plt.figure(figsize=(10,6))\n",
    "plt.subplot(1, 2, 1)\n",
    "plt.scatter(y_test, rf_preds, alpha=0.5, color='green')\n",
    "plt.plot([y_test.min(), y_test.max()], [y_test.min(), y_test.max()], 'r--')  # ideal line\n",
    "plt.xlabel(\"Actual\")\n",
    "plt.ylabel(\"Predicted\")\n",
    "plt.title(\"Random Forest: Actual vs Predicted\")"
   ]
  },
  {
   "cell_type": "code",
   "execution_count": null,
   "id": "c07f217d",
   "metadata": {},
   "outputs": [],
   "source": [
    "plt.figure(figsize=(10,6))\n",
    "plt.subplot(1, 2, 2)\n",
    "plt.scatter(y_test, xgb_preds, alpha=0.5, color='blue')\n",
    "plt.plot([y_test.min(), y_test.max()], [y_test.min(), y_test.max()], 'r--')\n",
    "plt.xlabel(\"Actual\")\n",
    "plt.ylabel(\"Predicted\")\n",
    "plt.title(\"XGBoost: Actual vs Predicted\")"
   ]
  },
  {
   "cell_type": "code",
   "execution_count": null,
   "id": "1cccad4c",
   "metadata": {},
   "outputs": [],
   "source": [
    "#Validation performance\n",
    "\n",
    "rf_val = rf.predict(X_val)\n",
    "\n",
    "xgb_val = xgb.predict(X_val)\n",
    "\n",
    "evaluate_model(\"Random Forrest\", y_val, rf_val)\n",
    "evaluate_model(\"XGBoost\", y_val, xgb_val )"
   ]
  },
  {
   "cell_type": "code",
   "execution_count": null,
   "id": "926593c1",
   "metadata": {},
   "outputs": [],
   "source": [
    "plt.figure(figsize=(10,6))\n",
    "plt.subplot(1, 2, 1)\n",
    "plt.scatter(y_val, rf_val, alpha=0.5, color='purple')\n",
    "plt.plot([y_val.min(), y_val.max()], [y_val.min(), y_val.max()], 'r--')  # ideal line\n",
    "plt.xlabel(\"Actual\")\n",
    "plt.ylabel(\"Predicted\")\n",
    "plt.title(\"Random Forest Validation: Actual vs Predicted\")"
   ]
  },
  {
   "cell_type": "code",
   "execution_count": null,
   "id": "bf353ff8",
   "metadata": {},
   "outputs": [],
   "source": [
    "plt.figure(figsize=(10,6))\n",
    "plt.subplot(1, 2, 1)\n",
    "plt.scatter(y_val, xgb_val, alpha=0.5, color='orange')\n",
    "plt.plot([y_val.min(), y_val.max()], [y_val.min(), y_val.max()], 'r--')  # ideal line\n",
    "plt.xlabel(\"Actual\")\n",
    "plt.ylabel(\"Predicted\")\n",
    "plt.title(\"XGBoost Validation: Actual vs Predicted\")"
   ]
  },
  {
   "cell_type": "code",
   "execution_count": null,
   "id": "768e86b5",
   "metadata": {},
   "outputs": [],
   "source": [
    "import matplotlib.pyplot as plt\n",
    "\n",
    "# For Random Forest\n",
    "rf_importance = pd.Series(rf.feature_importances_, index=features).sort_values(ascending=False)\n",
    "rf_importance.plot(kind='bar', title='Random Forest Feature Importance')\n",
    "plt.tight_layout()\n",
    "plt.show()\n",
    "\n",
    "\n"
   ]
  },
  {
   "cell_type": "code",
   "execution_count": null,
   "id": "48634216",
   "metadata": {},
   "outputs": [],
   "source": [
    "# For XGBoost\n",
    "xgb_importance = pd.Series(xgb.feature_importances_, index=features).sort_values(ascending=False)\n",
    "xgb_importance.plot(kind='bar', title='XGBoost Feature Importance', color='orange')\n",
    "plt.tight_layout()\n",
    "plt.show()"
   ]
  }
 ],
 "metadata": {
  "kernelspec": {
   "display_name": ".venv",
   "language": "python",
   "name": "python3"
  },
  "language_info": {
   "codemirror_mode": {
    "name": "ipython",
    "version": 3
   },
   "file_extension": ".py",
   "mimetype": "text/x-python",
   "name": "python",
   "nbconvert_exporter": "python",
   "pygments_lexer": "ipython3",
   "version": "3.11.8"
  }
 },
 "nbformat": 4,
 "nbformat_minor": 5
}
